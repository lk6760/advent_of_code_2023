{
 "cells": [
  {
   "cell_type": "markdown",
   "metadata": {},
   "source": [
    "# PART ONE"
   ]
  },
  {
   "cell_type": "code",
   "execution_count": 16,
   "metadata": {},
   "outputs": [
    {
     "name": "stdout",
     "output_type": "stream",
     "text": [
      "17\n"
     ]
    }
   ],
   "source": [
    "import re\n",
    "x = 'I was born in the year 1997'\n",
    "y = re.sub(r'\\D','',x)\n",
    "print(y[0]+y[-1])"
   ]
  },
  {
   "cell_type": "code",
   "execution_count": 53,
   "metadata": {},
   "outputs": [],
   "source": [
    "total = 0\n",
    "document = open(\"input.txt\").read().split(\"\\n\")"
   ]
  },
  {
   "cell_type": "code",
   "execution_count": 54,
   "metadata": {},
   "outputs": [
    {
     "name": "stdout",
     "output_type": "stream",
     "text": [
      "55386\n"
     ]
    }
   ],
   "source": [
    "for i, line in enumerate(document):\n",
    "    nums = re.sub(r'\\D','',line)\n",
    "    total += int(nums[0]+nums[-1])\n",
    "    \n",
    "\n",
    "print(total)"
   ]
  },
  {
   "cell_type": "markdown",
   "metadata": {},
   "source": [
    "# PART TWO"
   ]
  },
  {
   "cell_type": "code",
   "execution_count": 63,
   "metadata": {},
   "outputs": [],
   "source": [
    "str_numbers = [\"one\", \"two\", \"three\", \"four\", \"five\", \"six\", \"seven\", \"eight\", \"nine\", \"1\",\"2\",\"3\",\"4\",\"5\",\"6\",\"7\",\"8\",\"9\"]\n",
    "\n",
    "str_to_num = {\n",
    "    \"one\":\"1\",\n",
    "    \"two\":\"2\",\n",
    "    \"three\":\"3\",\n",
    "    \"four\":\"4\",\n",
    "    \"five\":\"5\", \n",
    "    \"six\":\"6\", \n",
    "    \"seven\":\"7\", \n",
    "    \"eight\":\"8\", \n",
    "    \"nine\":\"9\", \n",
    "    \"1\":\"1\",\n",
    "    \"2\":\"2\",\n",
    "    \"3\":\"3\",\n",
    "    \"4\":\"4\",\n",
    "    \"5\":\"5\",\n",
    "    \"6\":\"6\",\n",
    "    \"7\":\"7\",\n",
    "    \"8\":\"8\",\n",
    "    \"9\":\"9\",\n",
    "}"
   ]
  },
  {
   "cell_type": "code",
   "execution_count": 75,
   "metadata": {},
   "outputs": [
    {
     "name": "stdout",
     "output_type": "stream",
     "text": [
      "54824\n"
     ]
    }
   ],
   "source": [
    "total = 0\n",
    "for i, line in enumerate(document):\n",
    "    first_num = {}\n",
    "    last_num = {}\n",
    "    for n in str_numbers:\n",
    "        if not(line.find(n) == -1):\n",
    "            first_num[n] = line.find(n)\n",
    "            last_num[n] = line.rfind(n)\n",
    "\n",
    "    fn = min(first_num, key=first_num.get)\n",
    "    ln = max(last_num, key=last_num.get)\n",
    "    \n",
    "    total += int(str_to_num[fn]+str_to_num[ln])   \n",
    "\n",
    "print(total)"
   ]
  }
 ],
 "metadata": {
  "kernelspec": {
   "display_name": "base",
   "language": "python",
   "name": "python3"
  },
  "language_info": {
   "codemirror_mode": {
    "name": "ipython",
    "version": 3
   },
   "file_extension": ".py",
   "mimetype": "text/x-python",
   "name": "python",
   "nbconvert_exporter": "python",
   "pygments_lexer": "ipython3",
   "version": "3.9.7"
  }
 },
 "nbformat": 4,
 "nbformat_minor": 2
}
